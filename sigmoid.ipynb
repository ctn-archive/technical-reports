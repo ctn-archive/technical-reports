{
 "metadata": {
  "name": "",
  "signature": "sha256:c728514d2a90c4df93e18926187a62fb78bf7d68cf70176767b2bebf882cd2c1"
 },
 "nbformat": 3,
 "nbformat_minor": 0,
 "worksheets": [
  {
   "cells": [
    {
     "cell_type": "code",
     "collapsed": false,
     "input": [
      "import nengo\n",
      "import numpy as np\n",
      "import matplotlib.pyplot as plt\n",
      "%matplotlib inline\n",
      "from nengo.neurons import Sigmoid"
     ],
     "language": "python",
     "metadata": {},
     "outputs": [
      {
       "javascript": [
        "\n",
        "        require([\"widgets/js/widget\", \"widgets/js/manager\"],\n",
        "            function(widget, manager) {\n",
        "          if (typeof widget.DOMWidgetView == 'undefined') {\n",
        "            widget = IPython;\n",
        "          }\n",
        "          if (typeof manager.WidgetManager == 'undefined') {\n",
        "            manager = IPython;\n",
        "          }\n",
        "\n",
        "          var NengoProgressBar = widget.DOMWidgetView.extend({\n",
        "            render: function() {\n",
        "              // $el is the DOM of the widget\n",
        "              this.$el.css({width: '100%', marginBottom: '0.5em'});\n",
        "              this.$el.html([\n",
        "                '<div style=\"',\n",
        "                    'width: 100%;',\n",
        "                    'border: 1px solid #cfcfcf;',\n",
        "                    'border-radius: 4px;',\n",
        "                    'text-align: center;',\n",
        "                    'position: relative;\">',\n",
        "                  '<div class=\"pb-text\" style=\"',\n",
        "                      'position: absolute;',\n",
        "                      'width: 100%;\">',\n",
        "                    '0%',\n",
        "                  '</div>',\n",
        "                  '<div class=\"pb-bar\" style=\"',\n",
        "                      'background-color: #bdd2e6;',\n",
        "                      'width: 0%;',\n",
        "                      'transition: width 0.1s linear;\">',\n",
        "                    '&nbsp;',\n",
        "                  '</div>',\n",
        "                '</div>'].join(''));\n",
        "            },\n",
        "\n",
        "            update: function() {\n",
        "              this.$el.css({width: '100%', marginBottom: '0.5em'});\n",
        "              var progress = 100 * this.model.get('progress');\n",
        "              var text = this.model.get('text');\n",
        "              this.$el.find('div.pb-bar').width(progress.toString() + '%');\n",
        "              this.$el.find('div.pb-text').text(text);\n",
        "            },\n",
        "          });\n",
        "\n",
        "          manager.WidgetManager.register_widget_view(\n",
        "            'NengoProgressBar', NengoProgressBar);\n",
        "        });"
       ],
       "metadata": {},
       "output_type": "display_data",
       "text": [
        "<IPython.core.display.Javascript at 0x1071642d0>"
       ]
      }
     ],
     "prompt_number": 1
    },
    {
     "cell_type": "markdown",
     "metadata": {},
     "source": [
      "MAAAATH\n",
      "=======\n",
      "\n",
      "The Sigmoid is described by\n",
      "\n",
      "$$y = \\frac{1}{1 + e^{-x}} \\cdot \\frac{1}{\\tau_{ref}}$$\n",
      "\n",
      "To determine gain ($\\alpha$) and bias ($\\beta$)\n",
      "we satisfy two conditions based on\n",
      "`max_rates` ($MR$) and `intercepts` ($x_{int}$).\n",
      "\n",
      "0. When $x = 1$, $y = MR$, and\n",
      "0. when $x = \\frac{1 - x_{int}}{2}$, $y = \\frac{MR}{2}$\n",
      "\n",
      "Recall that $J = \\alpha x + \\beta$.\n",
      "Let $l = \\frac{1}{\\tau_{ref}}$\n",
      "\n",
      "For condition 1:\n",
      "\n",
      "\\begin{align}\n",
      "  MR &= \\frac{l}{1 + e^{-(\\alpha + \\beta)}} \\\\\n",
      "  e^{-(\\alpha + \\beta)} &=\\frac{l}{MR} - 1 \\\\\n",
      "  \\alpha + \\beta &= -\\ln \\left( \\frac{l}{MR} - 1 \\right) \\\\\n",
      "  \\beta &= -\\ln \\left( \\frac{l}{MR} - 1 \\right) - \\alpha\n",
      "\\end{align}\n",
      "\n",
      "wolfram says\n",
      "\n",
      "$$ \\beta = \\ln \\left( - \\frac{MR}{MR - l} \\right) - \\alpha $$\n",
      "\n",
      "For condition 2:\n",
      "\n",
      "\\begin{align}\n",
      "  \\frac{MR}{2} &= \\frac{l}{1 + e^{-(\\alpha \\frac{1 - x_{int}}{2} + \\beta)}} \\\\\n",
      "  e^{-(\\alpha \\frac{1 - x_{int}}{2} + \\beta)} &= \\frac{2l}{MR} - 1  \\\\\n",
      "  \\alpha \\frac{1 - x_{int}}{2} + \\beta &= -\\ln \\left( \\frac{2l}{MR} - 1 \\right) \\\\\n",
      "  \\alpha (1 - x_{int}) &= -2 \\ln \\left( \\frac{2l}{MR} - 1 \\right) - 2 \\beta\n",
      "\\end{align}\n",
      "\n",
      "wolfram says\n",
      "\n",
      "$$ \\alpha = \\frac{2 \\ln \\left( - \\frac{e^\\beta (MR - 2l)}{MR} \\right)}{x_{int} - 1} $$\n",
      "\n",
      "Putting them together:\n",
      "\n",
      "\\begin{align}\n",
      "  \\alpha - \\alpha x_{int} &= -2 \\ln \\left( \\frac{2l}{MR} - 1 \\right) + 2 \\ln \\left( \\frac{l}{MR} - 1 \\right) + 2 \\alpha \\\\\n",
      "  -\\alpha - \\alpha x_{int} &= 2 \\ln \\left( \\frac{2l^2}{MR^2} + \\frac{l}{MR} + 1 \\right) \\\\\n",
      "  -\\alpha (1 - x_{int}) &= 2 \\ln \\left( \\frac{2l^2}{MR^2} + \\frac{l}{MR} + 1 \\right) \\\\\n",
      "  \\alpha &= - \\frac{2}{1 - x_{int}} \\ln \\left( \\frac{2l^2}{MR^2} + \\frac{l}{MR} + 1 \\right)\n",
      "\\end{align}\n",
      "\n",
      "wolfram says\n",
      "\n",
      "$$ \\alpha = \\frac{1}{x_{int} - 1} \\ln \\left( \\frac{-1}{MR} (MR - 2l) \\right) + \\frac{1}{2} \\ln \\left( \\frac{- MR}{MR - l} \\right) $$\n",
      "\n",
      "Once we have $\\alpha$ we can use the equation in condition 1 to find $\\beta$."
     ]
    },
    {
     "cell_type": "code",
     "collapsed": false,
     "input": [
      "sig = Sigmoid(tau_ref=0.002)\n",
      "\n",
      "n_neurons = 5\n",
      "max_rates = nengo.dists.Uniform(200, 400).sample(n_neurons).reshape(-1, 1)\n",
      "intercepts = nengo.dists.Uniform(-1, 0.95).sample(n_neurons).reshape(-1, 1)\n",
      "\n",
      "lim = 1. / sig.tau_ref\n",
      "gain = (-2. / (intercepts - 1.0)) * np.log((2.0 * lim - max_rates) / (lim - max_rates))\n",
      "print gain\n",
      "bias = -np.log(lim / max_rates - 1) - gain\n",
      "#bias = np.log(max_rates * np.exp(-gain) / (lim - max_rates))\n",
      "print bias\n",
      "\n",
      "J = np.linspace(-1, 1)\n",
      "print sig.rates((1.0 - intercepts) * 0.5, gain, bias)\n",
      "plt.plot(J, sig.rates(J, gain.reshape(-1, 1), bias.reshape(-1, 1)).T, lw=3)\n",
      "\n",
      "# Draw rectified linear for reference\n",
      "m = max_rates / (1 - intercepts)\n",
      "b = -intercepts * m\n",
      "plt.plot(J, np.clip(m.reshape(-1, 1) * J + b.reshape(-1, 1), 0, 500).T, c='k', ls=':')"
     ],
     "language": "python",
     "metadata": {},
     "outputs": [
      {
       "output_type": "stream",
       "stream": "stdout",
       "text": [
        "[[ 3.28893201]\n",
        " [ 1.15029952]\n",
        " [ 3.21270895]\n",
        " [ 4.50675771]\n",
        " [ 4.99315962]]\n",
        "[[-1.96794208]\n",
        " [-1.48691704]\n",
        " [-2.14736002]\n",
        " [-3.91567499]\n",
        " [-5.05322073]]\n",
        "[[ 222.70403951]\n",
        " [ 190.13216379]\n",
        " [ 182.03445274]\n",
        " [  35.2474711 ]\n",
        " [   9.22353213]]\n"
       ]
      },
      {
       "metadata": {},
       "output_type": "pyout",
       "prompt_number": 590,
       "text": [
        "[<matplotlib.lines.Line2D at 0x12605d5d0>,\n",
        " <matplotlib.lines.Line2D at 0x12616f450>,\n",
        " <matplotlib.lines.Line2D at 0x126096490>,\n",
        " <matplotlib.lines.Line2D at 0x12616f7d0>,\n",
        " <matplotlib.lines.Line2D at 0x12616f990>]"
       ]
      },
      {
       "metadata": {},
       "output_type": "display_data",
       "png": "[encoded data removed]",
       "text": [
        "<matplotlib.figure.Figure at 0x124f32410>"
       ]
      }
     ],
     "prompt_number": 590
    },
    {
     "cell_type": "code",
     "collapsed": false,
     "input": [
      "import nengo.utils.numpy as npext\n",
      "from scipy.optimize import fmin, curve_fit\n",
      "\n",
      "sig = Sigmoid()\n",
      "\n",
      "n_neurons = 500\n",
      "\n",
      "J = np.linspace(-1, 1)\n",
      "max_rates = nengo.dists.Uniform(200, 400).sample(n_neurons).reshape(-1, 1)\n",
      "intercepts = np.linspace(-1, .9, n_neurons).reshape(-1, 1)\n",
      "intercepts = nengo.dists.Uniform(-1, 0.95).sample(n_neurons).reshape(-1, 1)\n",
      "\n",
      "both = -np.log((1. / (sig.tau_ref * max_rates)) - 1)\n",
      "\n",
      "# -(gain + bias) = both; find gain and bias such that sigmoid looks like rectified linear\n",
      "# Hopefully their ratio will be principled\n",
      "def rlinear_rates(J, max_rates, intercepts):\n",
      "    m = max_rates / (1 - intercepts)\n",
      "    b = -intercepts * m\n",
      "    return np.clip(m * J + b, 0, 400)\n",
      "\n",
      "def gen_diff_f(max_rate, intercept):\n",
      "    def sig_rl_diff(bias, max_rate=max_rate, intercept=intercept):\n",
      "        both = -np.log((1. / (sig.tau_ref * max_rate)) - 1)\n",
      "        gain = both - bias\n",
      "        sig_rates = sig.rates(J, gain, bias)\n",
      "        rl_rates = rlinear_rates(J, max_rate, intercept)\n",
      "        return npext.rmse(sig_rates, rl_rates)\n",
      "    return sig_rl_diff\n",
      "\n",
      "bias = np.zeros_like(max_rates)\n",
      "\n",
      "for ix, (mr, i) in enumerate(zip(max_rates, intercepts)):\n",
      "    sig_rl_f = gen_diff_f(mr, i)\n",
      "    x = fmin(sig_rl_f, -1, disp=0)\n",
      "    bias[ix] = (x)\n",
      "\n",
      "def bias_f(max_rates, intercepts):\n",
      "    return -intercepts * max_rates\n",
      "\n",
      "plt.plot(bias_f(max_rates, intercepts), bias, 'o')\n",
      "\n",
      "\n",
      "#th = 280\n",
      "#plt.plot(intercepts[max_rates > th], bias[max_rates > th], 'go')\n",
      "#plt.plot(intercepts[max_rates <= th], bias[max_rates <= th], 'bo')\n",
      "#th = 0.4\n",
      "#plt.plot(max_rates[intercepts > th], bias[intercepts > th], 'go')\n",
      "#plt.plot(max_rates[intercepts <= th], bias[intercepts <= th], 'bo')"
     ],
     "language": "python",
     "metadata": {},
     "outputs": [
      {
       "metadata": {},
       "output_type": "pyout",
       "prompt_number": 517,
       "text": [
        "[<matplotlib.lines.Line2D at 0x123efb450>]"
       ]
      },
      {
       "metadata": {},
       "output_type": "display_data",
       "png": "[encoded data removed]",
       "text": [
        "<matplotlib.figure.Figure at 0x123cfddd0>"
       ]
      }
     ],
     "prompt_number": 517
    },
    {
     "cell_type": "code",
     "collapsed": false,
     "input": [
      "from sympy import init_printing\n",
      "init_printing()"
     ],
     "language": "python",
     "metadata": {},
     "outputs": [],
     "prompt_number": 520
    },
    {
     "cell_type": "code",
     "collapsed": false,
     "input": [
      "from sympy import Symbol\n",
      "from sympy.functions import exp\n",
      "\n",
      "r_max = Symbol('r_max', real=True, positive=True)\n",
      "lim = Symbol('l', real=True, positive=True)\n",
      "x_int = Symbol('x_int', real=True)\n",
      "alpha = Symbol('alpha', real=True)\n",
      "beta = Symbol('beta', real=True)\n",
      "\n",
      "cond1 = lim / (1. + exp(-(alpha + beta))) - r_max  # = 0\n",
      "cond2 = lim / (1. + exp(-(alpha * ((1 - x_int) / 2) + beta))) - r_max / 2  # = 0"
     ],
     "language": "python",
     "metadata": {},
     "outputs": [],
     "prompt_number": 521
    },
    {
     "cell_type": "code",
     "collapsed": false,
     "input": [
      "cond1"
     ],
     "language": "python",
     "metadata": {},
     "outputs": [
      {
       "latex": [
        "$$\\frac{l}{e^{- \\alpha - \\beta} + 1.0} - r_{max}$$"
       ],
       "metadata": {},
       "output_type": "pyout",
       "png": "[encoded data removed]",
       "prompt_number": 523,
       "text": [
        "      l              \n",
        "\u2500\u2500\u2500\u2500\u2500\u2500\u2500\u2500\u2500\u2500\u2500\u2500\u2500 - r_max\n",
        " -\u03b1 - \u03b2              \n",
        "\u212f       + 1.0        "
       ]
      }
     ],
     "prompt_number": 523
    },
    {
     "cell_type": "code",
     "collapsed": false,
     "input": [
      "cond2"
     ],
     "language": "python",
     "metadata": {},
     "outputs": [
      {
       "latex": [
        "$$\\frac{l}{e^{- \\alpha \\left(- \\frac{x_{int}}{2} + \\frac{1}{2}\\right) - \\beta} + 1.0} - \\frac{r_{max}}{2}$$"
       ],
       "metadata": {},
       "output_type": "pyout",
       "png": "[encoded data removed]",
       "prompt_number": 524,
       "text": [
        "             l                 r_max\n",
        "\u2500\u2500\u2500\u2500\u2500\u2500\u2500\u2500\u2500\u2500\u2500\u2500\u2500\u2500\u2500\u2500\u2500\u2500\u2500\u2500\u2500\u2500\u2500\u2500\u2500\u2500\u2500\u2500 - \u2500\u2500\u2500\u2500\u2500\n",
        "     \u239b  x_int   1\u239e               2  \n",
        " - \u03b1\u22c5\u239c- \u2500\u2500\u2500\u2500\u2500 + \u2500\u239f - \u03b2              \n",
        "     \u239d    2     2\u23a0                  \n",
        "\u212f                      + 1.0        "
       ]
      }
     ],
     "prompt_number": 524
    },
    {
     "cell_type": "code",
     "collapsed": false,
     "input": [
      "from sympy.solvers import solve\n",
      "\n",
      "c1alpha, = solve(cond1, alpha)\n",
      "c1alpha.simplify()"
     ],
     "language": "python",
     "metadata": {},
     "outputs": [
      {
       "latex": [
        "$$\\log{\\left (\\frac{r_{max} e^{- \\beta}}{l - r_{max}} \\right )}$$"
       ],
       "metadata": {},
       "output_type": "pyout",
       "png": "[encoded data removed]",
       "prompt_number": 561,
       "text": [
        "   \u239b       -\u03b2\u239e\n",
        "   \u239cr_max\u22c5\u212f  \u239f\n",
        "log\u239c\u2500\u2500\u2500\u2500\u2500\u2500\u2500\u2500\u2500\u239f\n",
        "   \u239dl - r_max\u23a0"
       ]
      }
     ],
     "prompt_number": 561
    },
    {
     "cell_type": "code",
     "collapsed": false,
     "input": [
      "c2beta, = solve(cond2, beta)\n",
      "c2beta.simplify()"
     ],
     "language": "python",
     "metadata": {},
     "outputs": [
      {
       "latex": [
        "$$0.5 \\alpha \\left(x_{int} - 1.0\\right) + \\log{\\left (r_{max} \\right )} + \\log{\\left (\\frac{1}{2.0 l - r_{max}} \\right )}$$"
       ],
       "metadata": {},
       "output_type": "pyout",
       "png": "[encoded data removed]",
       "prompt_number": 563,
       "text": [
        "                                      \u239b      1      \u239e\n",
        "0.5\u22c5\u03b1\u22c5(x_int - 1.0) + log(r_max) + log\u239c\u2500\u2500\u2500\u2500\u2500\u2500\u2500\u2500\u2500\u2500\u2500\u2500\u2500\u239f\n",
        "                                      \u239d2.0\u22c5l - r_max\u23a0"
       ]
      }
     ],
     "prompt_number": 563
    },
    {
     "cell_type": "code",
     "collapsed": false,
     "input": [
      "bothc = c1alpha.subs(beta, c2beta)\n",
      "alpha_sol, = solve(bothc, alpha)\n",
      "alpha_sol.simplify()"
     ],
     "language": "python",
     "metadata": {},
     "outputs": [
      {
       "latex": [
        "$$\\frac{2.0}{x_{int} - 1.0} \\log{\\left (\\frac{2.0 l - r_{max}}{l - r_{max}} \\right )}$$"
       ],
       "metadata": {},
       "output_type": "pyout",
       "png": "[encoded data removed]",
       "prompt_number": 570,
       "text": [
        "       \u239b2.0\u22c5l - r_max\u239e\n",
        "2.0\u22c5log\u239c\u2500\u2500\u2500\u2500\u2500\u2500\u2500\u2500\u2500\u2500\u2500\u2500\u2500\u239f\n",
        "       \u239d  l - r_max  \u23a0\n",
        "\u2500\u2500\u2500\u2500\u2500\u2500\u2500\u2500\u2500\u2500\u2500\u2500\u2500\u2500\u2500\u2500\u2500\u2500\u2500\u2500\u2500\u2500\n",
        "     x_int - 1.0      "
       ]
      }
     ],
     "prompt_number": 570
    },
    {
     "cell_type": "code",
     "collapsed": false,
     "input": [
      "#c1beta, = solve(cond1, beta)\n",
      "beta_sol = c2beta.subs(alpha, alpha_sol)\n",
      "beta_sol.simplify()"
     ],
     "language": "python",
     "metadata": {},
     "outputs": [
      {
       "latex": [
        "$$\\log{\\left (r_{max} \\right )} + 1.0 \\log{\\left (\\frac{2.0 l - r_{max}}{l - r_{max}} \\right )} + \\log{\\left (\\frac{1}{2.0 l - r_{max}} \\right )}$$"
       ],
       "metadata": {},
       "output_type": "pyout",
       "png": "[encoded data removed]",
       "prompt_number": 575,
       "text": [
        "                    \u239b2.0\u22c5l - r_max\u239e      \u239b      1      \u239e\n",
        "log(r_max) + 1.0\u22c5log\u239c\u2500\u2500\u2500\u2500\u2500\u2500\u2500\u2500\u2500\u2500\u2500\u2500\u2500\u239f + log\u239c\u2500\u2500\u2500\u2500\u2500\u2500\u2500\u2500\u2500\u2500\u2500\u2500\u2500\u239f\n",
        "                    \u239d  l - r_max  \u23a0      \u239d2.0\u22c5l - r_max\u23a0"
       ]
      }
     ],
     "prompt_number": 575
    }
   ],
   "metadata": {}
  }
 ]
}